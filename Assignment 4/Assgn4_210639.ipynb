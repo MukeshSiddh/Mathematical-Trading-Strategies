import pandas as pd
df = pd.read_csv("HDFCBANK.csv")
#df.columns=['Date', 'Open', 'High', 'Low', 'Close', 'Volume']
#Check if NA values are in data
df=df[df['Volume']!=0]
df.reset_index(drop=True, inplace=True)
df.isna().sum()
df.head(10)

Head and shoulders pattern

def pivotid(df1, l, n1, n2): #n1 n2 before and after candle l
    if l-n1 < 0 or l+n2 >= len(df1):
        return 0
    
    pividlow=1
    pividhigh=1
    for i in range(l-n1, l+n2+1):
        if(df1.Low[l]>df1.Low[i]):
            pividlow=0
        if(df1.High[l]<df1.High[i]):
            pividhigh=0
    if pividlow and pividhigh:
        return 3
    elif pividlow:
        return 1
    elif pividhigh:
        return 2
    else:
        return 0
    
df['pivot'] = df.apply(lambda x: pivotid(df, x.name,20,20), axis=1)
df['shortpivot'] = df.apply(lambda x: pivotid(df, x.name,8,8), axis=1)

import numpy as np
def pointpos(x):
    if x['pivot']==1:
        return x['Low']-25
    elif x['pivot']==2:
        return x['High']+25
    else:
        return np.nan

def shortpointpos(x):
    if x['shortpivot']==1:
        return x['Low']-75
    elif x['shortpivot']==2:
        return x['High']+75
    else:
        return np.nan
    
df['pointpos'] = df.apply(lambda row: pointpos(row), axis=1)
df['shortpointpos'] = df.apply(lambda row: shortpointpos(row), axis=1)

import plotly.graph_objects as go
from plotly.subplots import make_subplots
from datetime import datetime
dfpl = df[-1000:]
fig = go.Figure(data=[go.Candlestick(x=dfpl.index,
                open=dfpl['Open'],
                high=dfpl['High'],
                low=dfpl['Low'],
                close=dfpl['Close'])])

fig.add_scatter(x=dfpl.index, y=dfpl['pointpos'], mode="markers",
                marker=dict(size=5, color="MediumPurple"),
                name="pivot")
fig.add_scatter(x=dfpl.index, y=dfpl['shortpointpos'], mode="markers",
                marker=dict(size=5, color="red"),
                name="shortpivot")
fig.update_layout(xaxis_rangeslider_visible=False)
fig.show()

The purple coloured dots denote strong pivots and the red coloured dots denote weak pivot point and we take the descision to sell and buy accordingly. The head and shoulders pattern act as a safeguard to false macd signal and also help in identifying reversal of trend.

MACD

import pandas as pd
import numpy as np
import matplotlib.pyplot as plt
import seaborn as sns
from pathlib import Path
from warnings import simplefilter
import yfinance as yf

data=yf.download('HDFCBANK.NS', start="2010-01-01", end="2020-01-01")

data['MACD']=data['Close'].ewm(span=15).mean()-data['Close'].ewm(span=50).mean()
data['Signal']=data['MACD'].ewm(span=10).mean()
data['Histogram']=data['MACD']-data['Signal']

plt.figure(figsize=(20, 10))
plt.plot(data['Close'])


plt.legend(loc = 'lower right')
plt.ylabel('Price')
plt.title('HDFCBANK')
plt.legend()
plt.grid(True)
plt.show()

plt.figure(figsize=(50, 10))
plt.plot(data['MACD'], color = 'grey', linewidth = 0.5, label = 'MACD')
plt.plot(data['Signal'], color = 'skyblue', linewidth = 0.5, label = 'SIGNAL')

for i in range(len(data['Histogram'])):
    if str(data['Histogram'][i])[0] == '-':
        plt.bar(data['Close'].index[i], data['Histogram'][i], color = '#ef5350')
    else:
        plt.bar(data['Close'].index[i], data['Histogram'][i], color = '#26a69a')

plt.legend(loc = 'lower right')
plt.ylabel('MACD indicator')
plt.title('MACD')
plt.legend()
plt.grid(True)
plt.show()

def implement_macd_strategy(data):    
    buy_price = []
    sell_price = []
    macd_signal = []
    signal = 0

    for i in range(len(data)):
        if data['MACD'][i] > data['Signal'][i]:
            if signal != 1:
                buy_price.append(data['Close'][i])
                sell_price.append(np.nan)
                signal = 1
                macd_signal.append(signal)
            else:
                buy_price.append(np.nan)
                sell_price.append(np.nan)
                macd_signal.append(0)
        elif data['MACD'][i] < data['Signal'][i]:
            if signal != -1:
                buy_price.append(np.nan)
                sell_price.append(data['Close'][i])
                signal = -1
                macd_signal.append(signal)
            else:
                buy_price.append(np.nan)
                sell_price.append(np.nan)
                macd_signal.append(0)
        else:
            buy_price.append(np.nan)
            sell_price.append(np.nan)
            macd_signal.append(0)
            
    return buy_price, sell_price, macd_signal
            
buy_price, sell_price, macd_signal = implement_macd_strategy(data)

plt.figure(figsize=(25, 12.5))
plt.plot(data['Close'], color = 'skyblue', linewidth = 2, label = 'HDFCBANK')
plt.plot(data.index, buy_price, marker = '^', color = 'green', markersize = 10, label = 'BUY SIGNAL', linewidth = 0)
plt.plot(data.index, sell_price, marker = 'v', color = 'r', markersize = 10, label = 'SELL SIGNAL', linewidth = 0)
#plt.legend()
plt.title('HDFC BANK BUY SELL INDICATOR')

plt.legend(loc = 'lower right')
plt.show()

plt.figure(figsize=(50, 10))
plt.plot(data['MACD'], color = 'grey', linewidth = 0.5, label = 'MACD')
plt.plot(data['Signal'], color = 'skyblue', linewidth = 0.5, label = 'SIGNAL')

for i in range(len(data['Histogram'])):
    if str(data['Histogram'][i])[0] == '-':
        plt.bar(data['Close'].index[i], data['Histogram'][i], color = '#ef5350')
    else:
        plt.bar(data['Close'].index[i], data['Histogram'][i], color = '#26a69a')
plt.title('MACD SIGNALS')        
plt.legend(loc = 'lower right')
plt.show()

position = []
for i in range(len(data['Signal'])):
    if macd_signal[i] > 1:
        position.append(0)
    else:
        position.append(1)
        
for i in range(len(data['Close'])):
    if macd_signal[i] == 1:
        position[i] = 1
    elif macd_signal[i] == -1:
        position[i] = 0
    else:
        position[i] = position[i-1]
        
macd = data['MACD']
signal = data['Signal']
close_price = data['Close']
macd_signal = pd.DataFrame(macd_signal).rename(columns = {0:'macd_signal'}).set_index(data.index)
position = pd.DataFrame(position).rename(columns = {0:'macd_position'}).set_index(data.index)

frames = [close_price, macd, signal, macd_signal, position]
strategy = pd.concat(frames, join = 'inner', axis = 1)

strategy

!pip install termcolor

import math
from termcolor import colored as cl

HDFC_ret = pd.DataFrame(np.diff(data['Close'])).rename(columns = {0:'returns'})
macd_strategy_ret = []
for i in range(len(HDFC_ret)):
    try:
        returns = HDFC_ret['returns'][i]*strategy['macd_position'][i]
        macd_strategy_ret.append(returns)
    except:
        pass
    
macd_strategy_ret_df = pd.DataFrame(macd_strategy_ret).rename(columns = {0:'macd_returns'})

investment_value = 100000
number_of_stocks = math.floor(investment_value/data['Close'][0])
macd_investment_ret = []

for i in range(len(macd_strategy_ret_df['macd_returns'])):
    returns = number_of_stocks*macd_strategy_ret_df['macd_returns'][i]
    macd_investment_ret.append(returns)
   
macd_investment_ret_df = pd.DataFrame(macd_investment_ret).rename(columns = {0:'investment_returns'})
total_investment_ret = round(sum(macd_investment_ret_df['investment_returns']), 2) 
profit_percentage = math.floor((total_investment_ret/investment_value)*100)
print(cl('Profit gained from the MACD strategy by investing Rs 100k in NSE : {}'.format(total_investment_ret), attrs = ['bold']))
print(cl('Profit percentage of the MACD strategy : {}%'.format(profit_percentage), attrs = ['bold']))

returns=macd_investment_ret_df['investment_returns']/1000
cum_ret_c=0
cum_returns=[]
for i in range(len(HDFC_ret)):
    if (i==0): 
        cum_returns.append(returns[0])
        cum_ret_c+=returns[0]
    else: 
        cum_ret_c+=returns[i]
        cum_returns.append(cum_ret_c)
cum_returns_df=pd.DataFrame(cum_returns).rename(columns = {0:'cum_returns'})
print(cum_returns_df.iloc[-1])

volatility=returns.std()*np.sqrt(252)
print(volatility)

rolling_max=cum_returns_df.rolling(window=len(cum_returns_df), min_periods=1).max()
drawdown=(cum_returns_df/rolling_max)-1
max_drawdown=drawdown.min()
print(max_drawdown)

sharpe_ratio=(returns.mean()-(0.02/252))*np.sqrt(252)/returns.std()
print(sharpe_ratio)

The MACD strategy with default settings gives around 47 percent volatility and the profit percentage comes out to be 163 per cent but with (15,50,10) setting gives 263 per cent profit with 3 per cent extra volatility.
