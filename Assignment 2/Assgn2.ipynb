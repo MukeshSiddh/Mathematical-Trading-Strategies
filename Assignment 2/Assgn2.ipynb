import yfinance as yf
import pandas as pd
import numpy as np
import matplotlib.pyplot as plt

indices = ['^GSPC', '^DJI', '^IXIC', '^FTSE', '^GDAXI']
equities = ['AAPL', 'MSFT', 'AMZN', 'GOOGL', 'JNJ']


start_date = '2010-01-01'
end_date = '2023-05-01'

index_data = yf.download(indices, start=start_date, end=end_date)['Adj Close']
equity_data = yf.download(equities, start=start_date, end=end_date)['Adj Close']

index_data

equity_data

index_returns=index_data.pct_change().dropna()
index_returns

equity_returns=equity_data.pct_change().dropna()
equity_returns

index_cumulative_returns=(1+index_returns).cumprod()-1
equity_cumulative_returns=(1+equity_returns).cumprod()-1
index_cumulative_returns

equity_cumulative_returns

index_rolling_max = index_data.rolling(window=len(index_data), min_periods=1).max()
index_drawdown = (index_data - index_rolling_max) / (index_rolling_max)
index_max_drawdown = index_drawdown.min()
index_max_drawdown


equity_rolling_max = equity_data.rolling(window=len(equity_data), min_periods=1).max()
equity_drawdown = (equity_data - equity_rolling_max) / (equity_rolling_max)
equity_max_drawdown = equity_drawdown.min()
equity_max_drawdown

index_volatility = index_returns.std()
equity_volatility = equity_returns.std()
index_volatility

equity_volatility

risk_free_rate = 0.02/252  # Assuming daily risk-free rate for simplicity dividing by 252
avg_daily_return = equity_returns.mean()
std_daily_return = equity_returns.std()
excess_return = avg_daily_return - risk_free_rate
sharpe_ratio = excess_return / std_daily_return
annualized_sharpe_ratio=sharpe_ratio*np.sqrt(252) #annualize it
for i, equity in enumerate(equities):
    print(f"Annualized Sharpe Ratio for {equity}: {annualized_sharpe_ratio[i]}")


risk_free_rate=0.02/252
avg_daily_return=index_returns.mean()
std_daily_return=index_returns.std()
excess_return=avg_daily_return-risk_free_rate
sharpe_ratio=excess_return/std_daily_return
annualized_sharpe_ratio=sharpe_ratio*np.sqrt(252)

for i, index in enumerate(indices) :
    print(f"Annualized Sharpe Ratio for {index}: {annualized_sharpe_ratio[i]}")

# calculation of sortino ratio for equity

risk_free_rate=0.02/252
downside_returns= equity_returns[equity_returns<0]
downside_std_deviation=downside_returns.std()

avg_daily_returns=equity_returns.mean()
excess_return= avg_daily_returns-risk_free_rate

sortino_ratio=excess_return/downside_std_deviation
annualized_sortino_ratio=sortino_ratio*np.sqrt(252)

for i, equity in enumerate(equities):
    print(f"Annualized Sortino Ratio for {equity}: {annualized_sortino_ratio[i]}")

# calculation of sortino ratio for index

risk_free_rate=0.02/252
downside_returns= index_returns[index_returns<0]
downside_std_deviation=downside_returns.std()

avg_daily_returns=index_returns.mean()
excess_return= avg_daily_returns-risk_free_rate

sortino_ratio=excess_return/downside_std_deviation
annualized_sortino_ratio=sortino_ratio*np.sqrt(252)

for i, index in enumerate(indices):
    print(f"Annualized Sortino Ratio for {index}: {annualized_sortino_ratio[i]}")

